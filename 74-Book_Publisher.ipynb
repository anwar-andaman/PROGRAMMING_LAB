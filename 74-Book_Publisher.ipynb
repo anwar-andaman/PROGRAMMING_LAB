{
 "cells": [
  {
   "cell_type": "code",
   "execution_count": 2,
   "id": "2b418a92",
   "metadata": {},
   "outputs": [
    {
     "name": "stdout",
     "output_type": "stream",
     "text": [
      "\n",
      "Enter publisher name: Tata McGraw Hill\n",
      "\n",
      "Enter book name: Digital Fundamentals\n",
      "\n",
      "Enter author name: B Ram\n",
      "\n",
      "Enter rate of book: 345\n",
      "\n",
      "Enter no. of pages: 678\n",
      "\n",
      "Book details\n",
      "\n",
      "Publisher name= Tata McGraw Hill \n",
      "\n",
      "Title= Digital Fundamentals \n",
      "\n",
      "Author B Ram \n",
      "\n",
      "Rate= 345 \n",
      "\n",
      "No. of pages= 678 \n",
      "\n"
     ]
    }
   ],
   "source": [
    "#display information about python book using base class constructor invocation\n",
    "\n",
    "class publisher:\n",
    "    def __init__(self,pname):\n",
    "        self.pubname=pname\n",
    "    def display1(self):\n",
    "        print(\"\\nBook details\")\n",
    "        print(\"\\nPublisher name=\",self.pubname,\"\\n\")\n",
    "class book(publisher):\n",
    "    def __init__(self,pname,bname,author):\n",
    "        self.title=bname\n",
    "        self.auth=author\n",
    "        publisher.__init__(self,pname)\n",
    "    def display2(self):\n",
    "        print(\"Title=\",self.title,\"\\n\")\n",
    "        print(\"Author\",self.auth,\"\\n\")\n",
    "class python(book):\n",
    "    def __init__(self,pname,title,au,price,np):\n",
    "        self.rate=price\n",
    "        self.nop=np\n",
    "        book.__init__(self,pname,title,au)\n",
    "    def display3(self):\n",
    "        print(\"Rate=\",self.rate,\"\\n\")\n",
    "        print(\"No. of pages=\", self.nop,\"\\n\")\n",
    "p=input(\"\\nEnter publisher name: \")\n",
    "b=input(\"\\nEnter book name: \")\n",
    "a=input(\"\\nEnter author name: \")\n",
    "r=int(input(\"\\nEnter rate of book: \"))\n",
    "n=int(input(\"\\nEnter no. of pages: \"))\n",
    "a=python(p,b,a,r,n)\n",
    "a.display1()\n",
    "a.display2()\n",
    "a.display3()\n"
   ]
  },
  {
   "cell_type": "code",
   "execution_count": null,
   "id": "d0757ccc",
   "metadata": {},
   "outputs": [],
   "source": []
  },
  {
   "cell_type": "code",
   "execution_count": null,
   "id": "2b191540",
   "metadata": {},
   "outputs": [],
   "source": []
  }
 ],
 "metadata": {
  "kernelspec": {
   "display_name": "Python 3 (ipykernel)",
   "language": "python",
   "name": "python3"
  },
  "language_info": {
   "codemirror_mode": {
    "name": "ipython",
    "version": 3
   },
   "file_extension": ".py",
   "mimetype": "text/x-python",
   "name": "python",
   "nbconvert_exporter": "python",
   "pygments_lexer": "ipython3",
   "version": "3.10.6"
  }
 },
 "nbformat": 4,
 "nbformat_minor": 5
}
