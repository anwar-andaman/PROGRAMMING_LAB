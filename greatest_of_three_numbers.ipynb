{
 "cells": [
  {
   "cell_type": "code",
   "execution_count": 7,
   "id": "c699a54c",
   "metadata": {},
   "outputs": [
    {
     "name": "stdout",
     "output_type": "stream",
     "text": [
      "\n",
      "Enter first number: 45\n",
      "\n",
      "Enter second number: 76\n",
      "\n",
      "Enter third number: 32\n",
      "\n",
      "The greatest number is 76.0\n"
     ]
    }
   ],
   "source": [
    "#Program to find greatest among three numbers\n",
    "num1 = float(input(\"\\nEnter first number: \"))\n",
    "num2 = float(input(\"\\nEnter second number: \"))\n",
    "num3 = float(input(\"\\nEnter third number: \"))\n",
    "\n",
    "if num1 >= num2 and num1 >= num3:\n",
    "    print(\"\\nThe greatest number is\",num1)\n",
    "elif num2 >= num1 and num2 >= num3:\n",
    "    print(\"\\nThe greatest number is\",num2)\n",
    "else:\n",
    "    print(\"\\nThe greatest number is\",num3)"
   ]
  }
 ],
 "metadata": {
  "kernelspec": {
   "display_name": "Python 3 (ipykernel)",
   "language": "python",
   "name": "python3"
  },
  "language_info": {
   "codemirror_mode": {
    "name": "ipython",
    "version": 3
   },
   "file_extension": ".py",
   "mimetype": "text/x-python",
   "name": "python",
   "nbconvert_exporter": "python",
   "pygments_lexer": "ipython3",
   "version": "3.10.6"
  }
 },
 "nbformat": 4,
 "nbformat_minor": 5
}
