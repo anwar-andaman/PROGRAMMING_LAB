{
 "cells": [
  {
   "cell_type": "code",
   "execution_count": 14,
   "id": "67bf47fd",
   "metadata": {},
   "outputs": [
    {
     "name": "stdout",
     "output_type": "stream",
     "text": [
      "Enter the numbers separated by commas: 23,54,34,32,87\n",
      "[23, 54, 34, 32, 87]\n"
     ]
    }
   ],
   "source": [
    "#Progam to generate a list of numbers given by the user\n",
    "list_string = input(\"Enter the numbers separated by commas: \")\n",
    "li = list_string.split(\",\")\n",
    "n = 0\n",
    "for i in li:\n",
    "    li[n]=int(i)\n",
    "    n=n+1\n",
    "print(li)"
   ]
  },
  {
   "cell_type": "code",
   "execution_count": null,
   "id": "0bd7f7c8",
   "metadata": {},
   "outputs": [],
   "source": []
  }
 ],
 "metadata": {
  "kernelspec": {
   "display_name": "Python 3 (ipykernel)",
   "language": "python",
   "name": "python3"
  },
  "language_info": {
   "codemirror_mode": {
    "name": "ipython",
    "version": 3
   },
   "file_extension": ".py",
   "mimetype": "text/x-python",
   "name": "python",
   "nbconvert_exporter": "python",
   "pygments_lexer": "ipython3",
   "version": "3.10.6"
  }
 },
 "nbformat": 4,
 "nbformat_minor": 5
}
