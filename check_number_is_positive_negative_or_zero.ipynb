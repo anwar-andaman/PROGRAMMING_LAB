{
 "cells": [
  {
   "cell_type": "code",
   "execution_count": 8,
   "id": "dfa6523a",
   "metadata": {},
   "outputs": [
    {
     "name": "stdout",
     "output_type": "stream",
     "text": [
      "Please enter a number: 34.5\n",
      "\n",
      "The entered number is positive\n"
     ]
    }
   ],
   "source": [
    "#Program to check a number is positive, negative or zero\n",
    "number = float(input(\"Please enter a number: \"))\n",
    "if number<0:\n",
    "    print(\"\\nThe entered number is negative\")\n",
    "elif number>0:\n",
    "    print(\"\\nThe entered number is positive\")\n",
    "else:\n",
    "    print(\"\\nThe entered number is zero\")"
   ]
  }
 ],
 "metadata": {
  "kernelspec": {
   "display_name": "Python 3 (ipykernel)",
   "language": "python",
   "name": "python3"
  },
  "language_info": {
   "codemirror_mode": {
    "name": "ipython",
    "version": 3
   },
   "file_extension": ".py",
   "mimetype": "text/x-python",
   "name": "python",
   "nbconvert_exporter": "python",
   "pygments_lexer": "ipython3",
   "version": "3.10.6"
  }
 },
 "nbformat": 4,
 "nbformat_minor": 5
}
