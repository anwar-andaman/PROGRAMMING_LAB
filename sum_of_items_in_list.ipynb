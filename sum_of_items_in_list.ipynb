{
 "cells": [
  {
   "cell_type": "code",
   "execution_count": 11,
   "id": "9b3ff867",
   "metadata": {},
   "outputs": [
    {
     "name": "stdout",
     "output_type": "stream",
     "text": [
      "Enter the numbers to be added to list. To stop, please enter 0:\n",
      "\n",
      "10\n",
      "20\n",
      "30\n",
      "40\n",
      "50\n",
      "60\n",
      "70\n",
      "80\n",
      "0\n",
      "The items in the list are: [10, 20, 30, 40, 50, 60, 70, 80]\n",
      "\n",
      "Sum of the items of the list =  360\n"
     ]
    }
   ],
   "source": [
    "#Program to find sum of all items in a list\n",
    "li = []\n",
    "sum = 0\n",
    "print(\"Enter the numbers to be added to list. To stop, please enter 0:\\n\")\n",
    "while True:\n",
    "    n = int(input())\n",
    "    if n == 0:\n",
    "        break\n",
    "    li.append(n)\n",
    "    sum = sum + n\n",
    "print(\"The items in the list are:\",li)\n",
    "print(\"\\nSum of the items of the list = \",sum)"
   ]
  },
  {
   "cell_type": "code",
   "execution_count": null,
   "id": "19b2a8a5",
   "metadata": {},
   "outputs": [],
   "source": []
  },
  {
   "cell_type": "code",
   "execution_count": null,
   "id": "e662ed3b",
   "metadata": {},
   "outputs": [],
   "source": []
  }
 ],
 "metadata": {
  "kernelspec": {
   "display_name": "Python 3 (ipykernel)",
   "language": "python",
   "name": "python3"
  },
  "language_info": {
   "codemirror_mode": {
    "name": "ipython",
    "version": 3
   },
   "file_extension": ".py",
   "mimetype": "text/x-python",
   "name": "python",
   "nbconvert_exporter": "python",
   "pygments_lexer": "ipython3",
   "version": "3.10.6"
  }
 },
 "nbformat": 4,
 "nbformat_minor": 5
}
