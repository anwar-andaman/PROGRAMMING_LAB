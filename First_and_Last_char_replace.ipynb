{
 "cells": [
  {
   "cell_type": "code",
   "execution_count": 21,
   "id": "5e077c18",
   "metadata": {},
   "outputs": [
    {
     "name": "stdout",
     "output_type": "stream",
     "text": [
      "Enter the String with atleast two characters:python\n",
      "\n",
      "The new string with first and last character interchanged is \"nythop\"\n"
     ]
    }
   ],
   "source": [
    "#Python program to interchange first and last character of a string\n",
    "\n",
    "str = input(\"Enter the String with atleast two characters:\")\n",
    "newstr = str[-1] + str[1:len(str)-1] + str[0]#Interchanging first and last character of the string\n",
    "print(\"\\nThe new string with first and last character interchanged is \\\"%s\\\"\" %newstr)"
   ]
  },
  {
   "cell_type": "code",
   "execution_count": null,
   "id": "299d290a",
   "metadata": {},
   "outputs": [],
   "source": []
  }
 ],
 "metadata": {
  "kernelspec": {
   "display_name": "Python 3 (ipykernel)",
   "language": "python",
   "name": "python3"
  },
  "language_info": {
   "codemirror_mode": {
    "name": "ipython",
    "version": 3
   },
   "file_extension": ".py",
   "mimetype": "text/x-python",
   "name": "python",
   "nbconvert_exporter": "python",
   "pygments_lexer": "ipython3",
   "version": "3.10.6"
  }
 },
 "nbformat": 4,
 "nbformat_minor": 5
}
