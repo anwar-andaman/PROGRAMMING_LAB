{
 "cells": [
  {
   "cell_type": "code",
   "execution_count": 41,
   "id": "c63045c7",
   "metadata": {},
   "outputs": [
    {
     "name": "stdout",
     "output_type": "stream",
     "text": [
      "Enter the values in comma separated format: 12,32,43,45,65\n",
      "The tuple is (12, 32, 43, 45, 65)\n",
      "The average is 39.4\n"
     ]
    }
   ],
   "source": [
    "#Program to find average value of the numbers in a given tuple\n",
    "li = input(\"Enter the values in comma separated format: \").split(\",\")\n",
    "n =0\n",
    "sum = 0\n",
    "for i in li:\n",
    "    li[n] = int(i)\n",
    "    n = n+1\n",
    "tup = tuple(li)\n",
    "n = 0\n",
    "for i in tup:\n",
    "    sum = sum + tup[n]\n",
    "    n = n+1\n",
    "sum = sum/n\n",
    "print(f\"The tuple is {tup}\")\n",
    "print(f\"The average is {sum}\")\n",
    "\n",
    "\n",
    "\n",
    "    "
   ]
  },
  {
   "cell_type": "code",
   "execution_count": null,
   "id": "c390a193",
   "metadata": {},
   "outputs": [],
   "source": []
  },
  {
   "cell_type": "code",
   "execution_count": null,
   "id": "985452a4",
   "metadata": {},
   "outputs": [],
   "source": []
  },
  {
   "cell_type": "code",
   "execution_count": null,
   "id": "6357efed",
   "metadata": {},
   "outputs": [],
   "source": []
  },
  {
   "cell_type": "code",
   "execution_count": null,
   "id": "6f77a8ac",
   "metadata": {},
   "outputs": [],
   "source": []
  }
 ],
 "metadata": {
  "kernelspec": {
   "display_name": "Python 3 (ipykernel)",
   "language": "python",
   "name": "python3"
  },
  "language_info": {
   "codemirror_mode": {
    "name": "ipython",
    "version": 3
   },
   "file_extension": ".py",
   "mimetype": "text/x-python",
   "name": "python",
   "nbconvert_exporter": "python",
   "pygments_lexer": "ipython3",
   "version": "3.10.6"
  }
 },
 "nbformat": 4,
 "nbformat_minor": 5
}
