{
 "cells": [
  {
   "cell_type": "code",
   "execution_count": 15,
   "metadata": {},
   "outputs": [
    {
     "name": "stdout",
     "output_type": "stream",
     "text": [
      "Enter the value:23\n",
      "\n",
      "You have entered a value 23\n",
      "\n",
      "The previous number is:22\n",
      "\n",
      "The next number is:24\n"
     ]
    }
   ],
   "source": [
    "#Program to take a value and print its previous and next number\n",
    "a = int(input(\"Enter the value:\"))\n",
    "print(\"\\nYou have entered a value %d\"%(a))\n",
    "print(\"\\nThe previous number is:%d\"%(a-1))\n",
    "print(\"\\nThe next number is:%d\"%(a+1)) "
   ]
  },
  {
   "cell_type": "code",
   "execution_count": null,
   "metadata": {
    "collapsed": true
   },
   "outputs": [],
   "source": []
  }
 ],
 "metadata": {
  "kernelspec": {
   "display_name": "Python 3",
   "language": "python",
   "name": "python3"
  },
  "language_info": {
   "codemirror_mode": {
    "name": "ipython",
    "version": 3
   },
   "file_extension": ".py",
   "mimetype": "text/x-python",
   "name": "python",
   "nbconvert_exporter": "python",
   "pygments_lexer": "ipython3",
   "version": "3.6.9"
  }
 },
 "nbformat": 4,
 "nbformat_minor": 2
}
