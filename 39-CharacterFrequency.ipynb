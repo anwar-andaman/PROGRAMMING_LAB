{
 "cells": [
  {
   "cell_type": "code",
   "execution_count": 6,
   "metadata": {},
   "outputs": [
    {
     "name": "stdout",
     "output_type": "stream",
     "text": [
      "The frequency of character 'a' in String 'Ram Gopal Verma' is 3\n"
     ]
    }
   ],
   "source": [
    "#Program count the number of specified characters (Charater Frequency) in s string\n",
    "\n",
    "str = input(\"Enter the string\")\n",
    "ch = input(\"Enter the character to find:\")\n",
    "print(f\"The frequency of character '{ch}' in String '{str}' is {str.count(ch)}\")"
   ]
  }
 ],
 "metadata": {
  "kernelspec": {
   "display_name": "Python 3",
   "language": "python",
   "name": "python3"
  },
  "language_info": {
   "codemirror_mode": {
    "name": "ipython",
    "version": 3
   },
   "file_extension": ".py",
   "mimetype": "text/x-python",
   "name": "python",
   "nbconvert_exporter": "python",
   "pygments_lexer": "ipython3",
   "version": "3.11.1"
  },
  "orig_nbformat": 4,
  "vscode": {
   "interpreter": {
    "hash": "b7197f85236f3b0ca225b9df18a6143fe4be6994e0ca8865c1364f3f7adaf599"
   }
  }
 },
 "nbformat": 4,
 "nbformat_minor": 2
}
