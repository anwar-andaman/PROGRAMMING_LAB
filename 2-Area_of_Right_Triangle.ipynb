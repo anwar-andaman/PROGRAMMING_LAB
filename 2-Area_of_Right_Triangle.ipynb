{
 "cells": [
  {
   "cell_type": "code",
   "execution_count": 6,
   "metadata": {},
   "outputs": [
    {
     "name": "stdout",
     "output_type": "stream",
     "text": [
      "Enter the base of triangle:\n",
      "12\n",
      "Enter the altitude of triangle:\n",
      "23\n",
      "Area of the triangle is:138.00\n"
     ]
    }
   ],
   "source": [
    "#Program to calcuate area of a Right Triangle\n",
    "print (\"Enter the base of triangle:\")\n",
    "b = float(input())\n",
    "print (\"Enter the altitude of triangle:\")\n",
    "alt = float(input())\n",
    "print(\"Area of the triangle is:%.2f\"%(1/2*b*alt))"
   ]
  },
  {
   "cell_type": "code",
   "execution_count": null,
   "metadata": {
    "collapsed": true
   },
   "outputs": [],
   "source": []
  }
 ],
 "metadata": {
  "kernelspec": {
   "display_name": "Python 3",
   "language": "python",
   "name": "python3"
  },
  "language_info": {
   "codemirror_mode": {
    "name": "ipython",
    "version": 3
   },
   "file_extension": ".py",
   "mimetype": "text/x-python",
   "name": "python",
   "nbconvert_exporter": "python",
   "pygments_lexer": "ipython3",
   "version": "3.6.9"
  }
 },
 "nbformat": 4,
 "nbformat_minor": 2
}
