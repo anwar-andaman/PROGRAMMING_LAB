{
 "cells": [
  {
   "cell_type": "code",
   "execution_count": 10,
   "id": "038791c2",
   "metadata": {},
   "outputs": [
    {
     "name": "stdout",
     "output_type": "stream",
     "text": [
      "\n",
      "Enter the choice: 01: Area of Circle  2: Circumference  3: Area of Rectangle  4: Perimeter: 4\n",
      "Enter the Length of Rectangle: 12\n",
      "Enter the Width of Rectangle: 23\n"
     ]
    },
    {
     "ename": "AttributeError",
     "evalue": "module 'Rectangle' has no attribute 'findPermimeter'",
     "output_type": "error",
     "traceback": [
      "\u001b[0;31m---------------------------------------------------------------------------\u001b[0m",
      "\u001b[0;31mAttributeError\u001b[0m                            Traceback (most recent call last)",
      "\u001b[0;32m/tmp/ipykernel_5728/4283732791.py\u001b[0m in \u001b[0;36m<module>\u001b[0;34m\u001b[0m\n\u001b[1;32m     15\u001b[0m     \u001b[0ml\u001b[0m \u001b[0;34m=\u001b[0m \u001b[0mint\u001b[0m\u001b[0;34m(\u001b[0m\u001b[0minput\u001b[0m\u001b[0;34m(\u001b[0m\u001b[0;34m\"Enter the Length of Rectangle: \"\u001b[0m\u001b[0;34m)\u001b[0m\u001b[0;34m)\u001b[0m\u001b[0;34m\u001b[0m\u001b[0;34m\u001b[0m\u001b[0m\n\u001b[1;32m     16\u001b[0m     \u001b[0mb\u001b[0m \u001b[0;34m=\u001b[0m \u001b[0mint\u001b[0m\u001b[0;34m(\u001b[0m\u001b[0minput\u001b[0m\u001b[0;34m(\u001b[0m\u001b[0;34m\"Enter the Width of Rectangle: \"\u001b[0m\u001b[0;34m)\u001b[0m\u001b[0;34m)\u001b[0m\u001b[0;34m\u001b[0m\u001b[0;34m\u001b[0m\u001b[0m\n\u001b[0;32m---> 17\u001b[0;31m     \u001b[0mprint\u001b[0m\u001b[0;34m(\u001b[0m\u001b[0;34m\"Area of the Rectange is \"\u001b[0m\u001b[0;34m,\u001b[0m\u001b[0mRectangle\u001b[0m\u001b[0;34m.\u001b[0m\u001b[0mfindPermimeter\u001b[0m\u001b[0;34m(\u001b[0m\u001b[0ml\u001b[0m\u001b[0;34m,\u001b[0m\u001b[0mb\u001b[0m\u001b[0;34m)\u001b[0m\u001b[0;34m)\u001b[0m\u001b[0;34m\u001b[0m\u001b[0;34m\u001b[0m\u001b[0m\n\u001b[0m\u001b[1;32m     18\u001b[0m \u001b[0;34m\u001b[0m\u001b[0m\n\u001b[1;32m     19\u001b[0m \u001b[0;34m\u001b[0m\u001b[0m\n",
      "\u001b[0;31mAttributeError\u001b[0m: module 'Rectangle' has no attribute 'findPermimeter'"
     ]
    }
   ],
   "source": [
    "import Rectangle\n",
    "import Circle\n",
    "n=int(input(\"\\nEnter the choice: 01: Area of Circle  2: Circumference  3: Area of Rectangle  4: Perimeter: \"))\n",
    "if (n==1):\n",
    "    r = int(input(\"\\n Enter the Radius:\"))\n",
    "    print(\"Area of Circle is: \",Circle.findArea(r))\n",
    "elif (n==2):\n",
    "    r = int(input(\"\\n Enter the Radius:\"))\n",
    "    print(\"Circumference of Circle is: \",Circle.findCircumference(r))\n",
    "elif (n==3):\n",
    "    l = int(input(\"Enter the Length of Rectangle: \"))\n",
    "    b = int(input(\"Enter the Width of Rectangle: \"))\n",
    "    print(\"Area of the Rectange is \",Rectangle.findArea(l,b))\n",
    "elif (n==4):\n",
    "    l = int(input(\"Enter the Length of Rectangle: \"))\n",
    "    b = int(input(\"Enter the Width of Rectangle: \"))\n",
    "    print(\"Area of the Rectange is \",Rectangle.findPermimeter(l,b))\n",
    "       \n",
    "    \n",
    "    "
   ]
  },
  {
   "cell_type": "code",
   "execution_count": null,
   "id": "92b20b44",
   "metadata": {},
   "outputs": [],
   "source": []
  },
  {
   "cell_type": "code",
   "execution_count": null,
   "id": "0b2992b9",
   "metadata": {},
   "outputs": [],
   "source": []
  }
 ],
 "metadata": {
  "kernelspec": {
   "display_name": "Python 3 (ipykernel)",
   "language": "python",
   "name": "python3"
  },
  "language_info": {
   "codemirror_mode": {
    "name": "ipython",
    "version": 3
   },
   "file_extension": ".py",
   "mimetype": "text/x-python",
   "name": "python",
   "nbconvert_exporter": "python",
   "pygments_lexer": "ipython3",
   "version": "3.10.6"
  }
 },
 "nbformat": 4,
 "nbformat_minor": 5
}
