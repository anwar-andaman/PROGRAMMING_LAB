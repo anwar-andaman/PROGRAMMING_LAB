{
 "cells": [
  {
   "cell_type": "code",
   "execution_count": null,
   "id": "038791c2",
   "metadata": {},
   "outputs": [
    {
     "name": "stdout",
     "output_type": "stream",
     "text": [
      "\n",
      "Enter the choice: \n",
      "\n",
      " 1: Area of Circle  \n",
      " 2: Circumference  \n",
      " 3: Area of Rectangle  \n",
      " 4: Perimeter: \n",
      " 5: Exit\n",
      "4\n",
      "\n",
      "Enter the Length of Rectangle: 12\n",
      "\n",
      "Enter the Width of Rectangle: 6\n",
      "\n",
      "Area of the Rectange is  36\n"
     ]
    }
   ],
   "source": [
    "import Rectangle\n",
    "import Circle\n",
    "while True:\n",
    "    n=int(input(\"\\nEnter the choice: \\n\\n 1: Area of Circle  \\n 2: Circumference  \\n 3: Area of Rectangle  \\n 4: Perimeter: \\n 5: Exit\\n\"))\n",
    "    if (n==1):\n",
    "        r = int(input(\"\\n Enter the Radius:\"))\n",
    "        print(\"\\nArea of Circle is: \",Circle.findArea(r))\n",
    "    elif (n==2):\n",
    "        r = int(input(\"\\n Enter the Radius:\"))\n",
    "        print(\"Circumference of Circle is: \",Circle.findCircumference(r))\n",
    "    elif (n==3):\n",
    "        l = int(input(\"\\nEnter the Length of Rectangle: \"))\n",
    "        b = int(input(\"\\nEnter the Width of Rectangle: \"))\n",
    "        print(\"\\nArea of the Rectange is \",Rectangle.findArea(l,b))\n",
    "    elif (n==4):\n",
    "        l = int(input(\"\\nEnter the Length of Rectangle: \"))\n",
    "        b = int(input(\"\\nEnter the Width of Rectangle: \"))\n",
    "        print(\"\\nPerimeter of the Rectange is \",Rectangle.findPerimeter(l,b))\n",
    "    elif (n==5):\n",
    "        print(\"\\nExiting Program\")\n",
    "        break;\n",
    "       \n",
    "    \n",
    "    "
   ]
  },
  {
   "cell_type": "code",
   "execution_count": null,
   "id": "92b20b44",
   "metadata": {},
   "outputs": [],
   "source": []
  },
  {
   "cell_type": "code",
   "execution_count": null,
   "id": "0b2992b9",
   "metadata": {},
   "outputs": [],
   "source": []
  }
 ],
 "metadata": {
  "kernelspec": {
   "display_name": "Python 3 (ipykernel)",
   "language": "python",
   "name": "python3"
  },
  "language_info": {
   "codemirror_mode": {
    "name": "ipython",
    "version": 3
   },
   "file_extension": ".py",
   "mimetype": "text/x-python",
   "name": "python",
   "nbconvert_exporter": "python",
   "pygments_lexer": "ipython3",
   "version": "3.10.6"
  }
 },
 "nbformat": 4,
 "nbformat_minor": 5
}
