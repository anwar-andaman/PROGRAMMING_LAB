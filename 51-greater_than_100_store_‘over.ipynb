{
 "cells": [
  {
   "cell_type": "code",
   "execution_count": 10,
   "id": "47384f14",
   "metadata": {},
   "outputs": [
    {
     "name": "stdout",
     "output_type": "stream",
     "text": [
      "\n",
      "Enter the numbers. For stop, enter 999:12\n",
      "34\n",
      "45\n",
      "876\n",
      "46\n",
      "443\n",
      "895\n",
      "999\n",
      "The desired list is [34, 45, 'over', 46, 'over', 'over']\n"
     ]
    }
   ],
   "source": [
    "#Program to Prompt the user for a list of integers. For all values greater than 100, store ‘over’\n",
    "li=[]\n",
    "n=0;\n",
    "input(\"\\nEnter the numbers. For stop, enter 999:\")\n",
    "while n!=999:\n",
    "    n = int(input())\n",
    "    if n==999:\n",
    "        break;\n",
    "    if n>100:\n",
    "        li.append(\"over\")\n",
    "    else:\n",
    "        li.append(n)\n",
    "    \n",
    "print(f\"The desired list is {li}\")\n",
    "\n"
   ]
  },
  {
   "cell_type": "code",
   "execution_count": null,
   "id": "3f2eb9cd",
   "metadata": {},
   "outputs": [],
   "source": []
  }
 ],
 "metadata": {
  "kernelspec": {
   "display_name": "Python 3 (ipykernel)",
   "language": "python",
   "name": "python3"
  },
  "language_info": {
   "codemirror_mode": {
    "name": "ipython",
    "version": 3
   },
   "file_extension": ".py",
   "mimetype": "text/x-python",
   "name": "python",
   "nbconvert_exporter": "python",
   "pygments_lexer": "ipython3",
   "version": "3.10.6"
  }
 },
 "nbformat": 4,
 "nbformat_minor": 5
}
