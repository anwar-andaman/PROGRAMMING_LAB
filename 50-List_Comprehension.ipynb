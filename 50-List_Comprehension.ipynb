{
 "cells": [
  {
   "cell_type": "code",
   "execution_count": 6,
   "id": "68c98482",
   "metadata": {
    "scrolled": true
   },
   "outputs": [
    {
     "name": "stdout",
     "output_type": "stream",
     "text": [
      "Enter the values in comma separated format for listing positive numbers: 12,-3,4,-5,23,54,65,76,-9,-35,-12\n",
      "\n",
      "The entered list is [12, -3, 4, -5, 23, 54, 65, 76, -9, -35, -12]\n",
      "\n",
      "The list of positive numbers is [12, 4, 23, 54, 65, 76]\n",
      "\n",
      "Enter a value for n for generating list of sqaure of n numbers:10\n",
      "Square of 10 numbers is [1, 4, 9, 16, 25, 36, 49, 64, 81, 100]\n",
      "Enter a word: encyclopedia\n",
      "\n",
      " The list of vovels in the word encyclopedia is ['e', 'o', 'e', 'i', 'a']\n",
      "\n",
      " Ordinal values of the word encyclopedia is [101, 110, 99, 121, 99, 108, 111, 112, 101, 100, 105, 97]\n"
     ]
    }
   ],
   "source": [
    "#50 - Program for List Comprehensions\n",
    "\n",
    "# 1. Generate positive list of numbers from a given list of integers\n",
    "\n",
    "li = input(\"Enter the values in comma separated format for listing positive numbers: \").split(\",\")\n",
    "pos=[]\n",
    "sq=[]\n",
    "for i in range(0,len(li)):\n",
    "    li[i]=int(li[i])\n",
    "    if li[i]>0:\n",
    "        pos.append(li[i])\n",
    "print(f\"\\nThe entered list is {li}\")\n",
    "print(f\"\\nThe list of positive numbers is {pos}\")\n",
    "\n",
    "# 2. Sqaure of N numbers\n",
    "\n",
    "n= int(input((\"\\nEnter a value for n for generating list of sqaure of n numbers:\")))\n",
    "for i in range(1,n+1):\n",
    "    sq.append(i**2)\n",
    "print(f\"Square of {n} numbers is {sq}\")\n",
    "\n",
    "# 3. Form a list of vowels selected from a given word \n",
    "vov = ('a','e','i','o','u')\n",
    "word = input(\"Enter a word: \")\n",
    "vovlist=[]\n",
    "\n",
    "for i in word:\n",
    "    if i.lower() in vov:\n",
    "        vovlist.append(i)\n",
    "print(f\"\\n The list of vovels in the word {word} is {vovlist}\")\n",
    "        \n",
    "\n",
    "#List ordinal value of each element of the above word\n",
    "ordList=[]\n",
    "for i in word:\n",
    "    ordList.append(ord(i))\n",
    "print(f\"\\n Ordinal values of the word {word} is {ordList}\")\n",
    "    \n",
    "\n",
    "\n",
    "\n",
    "\n",
    "\n",
    "    "
   ]
  },
  {
   "cell_type": "code",
   "execution_count": null,
   "id": "eeffc895",
   "metadata": {},
   "outputs": [],
   "source": []
  },
  {
   "cell_type": "code",
   "execution_count": null,
   "id": "bdceca4b",
   "metadata": {},
   "outputs": [],
   "source": []
  },
  {
   "cell_type": "code",
   "execution_count": null,
   "id": "4e6af4c3",
   "metadata": {},
   "outputs": [],
   "source": []
  },
  {
   "cell_type": "code",
   "execution_count": null,
   "id": "c6d05380",
   "metadata": {},
   "outputs": [],
   "source": []
  }
 ],
 "metadata": {
  "kernelspec": {
   "display_name": "Python 3 (ipykernel)",
   "language": "python",
   "name": "python3"
  },
  "language_info": {
   "codemirror_mode": {
    "name": "ipython",
    "version": 3
   },
   "file_extension": ".py",
   "mimetype": "text/x-python",
   "name": "python",
   "nbconvert_exporter": "python",
   "pygments_lexer": "ipython3",
   "version": "3.10.6"
  }
 },
 "nbformat": 4,
 "nbformat_minor": 5
}
