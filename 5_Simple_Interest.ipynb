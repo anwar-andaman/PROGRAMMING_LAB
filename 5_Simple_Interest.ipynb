{
 "cells": [
  {
   "cell_type": "code",
   "execution_count": 16,
   "metadata": {},
   "outputs": [
    {
     "name": "stdout",
     "output_type": "stream",
     "text": [
      "Enter the Principal amount: 10000\n",
      "\n",
      "Enter the rate of interest: 4\n",
      "\n",
      "Enter the duration in Years: 3\n",
      "\n",
      "The total interest is:1200.00\n"
     ]
    }
   ],
   "source": [
    "#Program to calculate Simple Interest\n",
    "p = float(input(\"Enter the Principal amount: \"))\n",
    "r = float(input(\"\\nEnter the rate of interest: \"))\n",
    "d = float(input(\"\\nEnter the duration in Years: \"))\n",
    "i = p*r*d/100\n",
    "print(\"\\nThe total interest is:%.2f\"%(i))"
   ]
  },
  {
   "cell_type": "code",
   "execution_count": null,
   "metadata": {
    "collapsed": true
   },
   "outputs": [],
   "source": []
  }
 ],
 "metadata": {
  "kernelspec": {
   "display_name": "Python 3",
   "language": "python",
   "name": "python3"
  },
  "language_info": {
   "codemirror_mode": {
    "name": "ipython",
    "version": 3
   },
   "file_extension": ".py",
   "mimetype": "text/x-python",
   "name": "python",
   "nbconvert_exporter": "python",
   "pygments_lexer": "ipython3",
   "version": "3.6.9"
  }
 },
 "nbformat": 4,
 "nbformat_minor": 2
}
