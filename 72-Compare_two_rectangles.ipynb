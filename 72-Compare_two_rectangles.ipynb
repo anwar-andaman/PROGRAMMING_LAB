{
 "cells": [
  {
   "cell_type": "code",
   "execution_count": 1,
   "id": "a43a82e3",
   "metadata": {},
   "outputs": [
    {
     "name": "stdout",
     "output_type": "stream",
     "text": [
      "Rectangle 1\n",
      "\n",
      "Enter length of Rectangle: 12\n",
      "Enter breadth of Rectangle:5\n",
      "\n",
      "Rectangle 2\n",
      "\n",
      "Enter length of Rectangle:15\n",
      "Enter breadth of Rectangle:7\n",
      "\n",
      "Area of rectangle 1: 60\n",
      "\n",
      "perimeter on rectangle 1: 34\n",
      "\n",
      "Area of rectangle 2: 105\n",
      "\n",
      "perimeter on rectangle 2: 44\n",
      "\n",
      "Rectangle 2 is greater\n"
     ]
    }
   ],
   "source": [
    "class rectangle():\n",
    "    def get(self,l,b):\n",
    "        self.l=l\n",
    "        self.b=b\n",
    "    def area(self,l,b):\n",
    "        return l*b\n",
    "    def perimeter(self,l,b):\n",
    "        return 2*(l+b)\n",
    "r1=rectangle()\n",
    "r2=rectangle()\n",
    "print(\"Rectangle 1\\n\")\n",
    "l1=int(input(\"Enter length of Rectangle: \"))\n",
    "b1=int(input(\"Enter breadth of Rectangle:\"))\n",
    "print(\"\\nRectangle 2\\n\")\n",
    "l2=int(input(\"Enter length of Rectangle:\"))\n",
    "b2=int(input(\"Enter breadth of Rectangle:\"))\n",
    "print(\"\\nArea of rectangle 1:\",l1*b1)\n",
    "print(\"\\nperimeter on rectangle 1:\",2*(l1+b1))\n",
    "print(\"\\nArea of rectangle 2:\",l2*b2)\n",
    "print(\"\\nperimeter on rectangle 2:\",2*(l2+b2))\n",
    "p=r1.area(l1,b1)\n",
    "q=r2.area(l2,b2)\n",
    "if(p>q):\n",
    "    print(\"\\nRectangle 1 is greater\")\n",
    "elif(p<q):\n",
    "    print(\"\\nRectangle 2 is greater\")\n",
    "else:\n",
    "    print(\"\\nRectangles are equal\")"
   ]
  },
  {
   "cell_type": "code",
   "execution_count": null,
   "id": "a385d140",
   "metadata": {},
   "outputs": [],
   "source": []
  }
 ],
 "metadata": {
  "kernelspec": {
   "display_name": "Python 3 (ipykernel)",
   "language": "python",
   "name": "python3"
  },
  "language_info": {
   "codemirror_mode": {
    "name": "ipython",
    "version": 3
   },
   "file_extension": ".py",
   "mimetype": "text/x-python",
   "name": "python",
   "nbconvert_exporter": "python",
   "pygments_lexer": "ipython3",
   "version": "3.10.6"
  }
 },
 "nbformat": 4,
 "nbformat_minor": 5
}
