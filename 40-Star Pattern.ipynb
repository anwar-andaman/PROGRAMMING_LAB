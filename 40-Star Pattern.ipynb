{
 "cells": [
  {
   "cell_type": "code",
   "execution_count": 21,
   "metadata": {},
   "outputs": [
    {
     "name": "stdout",
     "output_type": "stream",
     "text": [
      "The patter for 9 rows of stars is:\n",
      "* \n",
      "\n",
      "* * \n",
      "\n",
      "* * * \n",
      "\n",
      "* * * * \n",
      "\n",
      "* * * * * \n",
      "\n",
      "* * * * \n",
      "\n",
      "* * * \n",
      "\n",
      "* * \n",
      "\n",
      "* \n",
      "\n",
      "\n",
      "\n"
     ]
    }
   ],
   "source": [
    "#Program to construct a Star Pattern\n",
    "n = int(input('Enter a positive integer'))\n",
    "print(f'The patter for {n-1} rows of stars is:')\n",
    "for i in range(1,n+1):\n",
    "    if i<=n/2:\n",
    "        for j in range(i):\n",
    "            print('*', end=' ')\n",
    "    else:\n",
    "        for j in range(1,n-i+1):\n",
    "           print('*', end=' ')\n",
    "    print('\\n')"
   ]
  }
 ],
 "metadata": {
  "kernelspec": {
   "display_name": "Python 3",
   "language": "python",
   "name": "python3"
  },
  "language_info": {
   "codemirror_mode": {
    "name": "ipython",
    "version": 3
   },
   "file_extension": ".py",
   "mimetype": "text/x-python",
   "name": "python",
   "nbconvert_exporter": "python",
   "pygments_lexer": "ipython3",
   "version": "3.11.1"
  },
  "orig_nbformat": 4,
  "vscode": {
   "interpreter": {
    "hash": "b7197f85236f3b0ca225b9df18a6143fe4be6994e0ca8865c1364f3f7adaf599"
   }
  }
 },
 "nbformat": 4,
 "nbformat_minor": 2
}
