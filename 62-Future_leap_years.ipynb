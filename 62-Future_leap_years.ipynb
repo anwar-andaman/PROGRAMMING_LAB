{
 "cells": [
  {
   "cell_type": "code",
   "execution_count": 15,
   "id": "f7635887",
   "metadata": {},
   "outputs": [
    {
     "name": "stdout",
     "output_type": "stream",
     "text": [
      "\n",
      "Enter the End Year:2035\n",
      "\n",
      "\n",
      "The leap years between 2023 and 2035 are:\n",
      "2024\n",
      "2028\n",
      "2032\n"
     ]
    }
   ],
   "source": [
    "#Display Future Leap Years\n",
    "\n",
    "import datetime\n",
    "endYear=int(input(\"\\nEnter the End Year:\"))\n",
    "currYear=datetime.datetime.now().year\n",
    "print(\"\\n\\nThe leap years between\",currYear,\"and\",endYear,\"are:\")\n",
    "def findLeap(yr):\n",
    "    if (yr%4==0 and (yr%100!=0 or yr%400==0)):\n",
    "        return(1)\n",
    "    else:\n",
    "        return(0)\n",
    "for i in range(currYear,endYear+1):\n",
    "    if findLeap(i)==1:\n",
    "        print(i)\n",
    "    "
   ]
  },
  {
   "cell_type": "code",
   "execution_count": null,
   "id": "30e8b7dc",
   "metadata": {},
   "outputs": [],
   "source": []
  },
  {
   "cell_type": "code",
   "execution_count": null,
   "id": "53ab6f24",
   "metadata": {},
   "outputs": [],
   "source": []
  },
  {
   "cell_type": "code",
   "execution_count": null,
   "id": "d554380c",
   "metadata": {},
   "outputs": [],
   "source": []
  }
 ],
 "metadata": {
  "kernelspec": {
   "display_name": "Python 3 (ipykernel)",
   "language": "python",
   "name": "python3"
  },
  "language_info": {
   "codemirror_mode": {
    "name": "ipython",
    "version": 3
   },
   "file_extension": ".py",
   "mimetype": "text/x-python",
   "name": "python",
   "nbconvert_exporter": "python",
   "pygments_lexer": "ipython3",
   "version": "3.10.6"
  }
 },
 "nbformat": 4,
 "nbformat_minor": 5
}
