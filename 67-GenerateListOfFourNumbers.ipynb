{
 "cells": [
  {
   "cell_type": "code",
   "execution_count": 19,
   "id": "fb1cf18d",
   "metadata": {},
   "outputs": [
    {
     "name": "stdout",
     "output_type": "stream",
     "text": [
      "Enter the Four Digit Start Number1000\n",
      "Enter the Four Digit End Number9000\n",
      "4624\n",
      "6084\n",
      "6400\n",
      "8464\n"
     ]
    }
   ],
   "source": [
    "#Generate list of four digit number\n",
    "import math\n",
    "start = int(input(\"Enter the Four Digit Start Number\"))\n",
    "end = int(input(\"Enter the Four Digit End Number\"))\n",
    "def checkDigits(n):\n",
    "    s = str(n)\n",
    "    even = 1\n",
    "    for i in s:\n",
    "        if (int(i)%2!=0):\n",
    "            even=0\n",
    "            break\n",
    "    return(even)\n",
    "\n",
    "def checkSquare(n):\n",
    "    s = int(math.sqrt(n))\n",
    "    if (s**2==n):\n",
    "        return(1)\n",
    "    else:\n",
    "        return(0)\n",
    "    \n",
    "for i in range(start,end+1):\n",
    "    if (checkDigits(i) and checkSquare(i)):\n",
    "        print(i)\n",
    "    "
   ]
  },
  {
   "cell_type": "code",
   "execution_count": null,
   "id": "d35559cb",
   "metadata": {},
   "outputs": [],
   "source": []
  },
  {
   "cell_type": "code",
   "execution_count": null,
   "id": "4f30f767",
   "metadata": {},
   "outputs": [],
   "source": []
  },
  {
   "cell_type": "code",
   "execution_count": null,
   "id": "1e2ddc3d",
   "metadata": {},
   "outputs": [],
   "source": []
  }
 ],
 "metadata": {
  "kernelspec": {
   "display_name": "Python 3 (ipykernel)",
   "language": "python",
   "name": "python3"
  },
  "language_info": {
   "codemirror_mode": {
    "name": "ipython",
    "version": 3
   },
   "file_extension": ".py",
   "mimetype": "text/x-python",
   "name": "python",
   "nbconvert_exporter": "python",
   "pygments_lexer": "ipython3",
   "version": "3.10.6"
  }
 },
 "nbformat": 4,
 "nbformat_minor": 5
}
