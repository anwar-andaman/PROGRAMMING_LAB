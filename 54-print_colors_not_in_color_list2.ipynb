{
 "cells": [
  {
   "cell_type": "code",
   "execution_count": 2,
   "id": "a8442da1",
   "metadata": {},
   "outputs": [
    {
     "name": "stdout",
     "output_type": "stream",
     "text": [
      "\n",
      " Enter the list of colors in List-1: yellow,red,blue,green,orange\n",
      "\n",
      " Enter the list of colors in List-2: yellow,blue,orange,skyblue\n",
      "\n",
      "\n",
      "red\n",
      "green\n"
     ]
    }
   ],
   "source": [
    "#Print out all colors from color-list1 not contained in color-list2\n",
    "colorList1 = input(\"\\n Enter the list of colors in List-1: \").split(\",\")\n",
    "colorList2 = input(\"\\n Enter the list of colors in List-2: \").split(\",\")\n",
    "print(\"\\n\")\n",
    "for i in colorList1:\n",
    "    if i not in colorList2:\n",
    "        print(i)\n"
   ]
  },
  {
   "cell_type": "code",
   "execution_count": null,
   "id": "209ab9a6",
   "metadata": {},
   "outputs": [],
   "source": []
  }
 ],
 "metadata": {
  "kernelspec": {
   "display_name": "Python 3 (ipykernel)",
   "language": "python",
   "name": "python3"
  },
  "language_info": {
   "codemirror_mode": {
    "name": "ipython",
    "version": 3
   },
   "file_extension": ".py",
   "mimetype": "text/x-python",
   "name": "python",
   "nbconvert_exporter": "python",
   "pygments_lexer": "ipython3",
   "version": "3.10.6"
  }
 },
 "nbformat": 4,
 "nbformat_minor": 5
}
