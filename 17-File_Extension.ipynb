{
 "cells": [
  {
   "cell_type": "code",
   "execution_count": 1,
   "id": "6d08aa2e",
   "metadata": {},
   "outputs": [
    {
     "name": "stdout",
     "output_type": "stream",
     "text": [
      "Enter the filename with extension :Myfile.jpg\n",
      "extension is : jpg\n"
     ]
    }
   ],
   "source": [
    "#display extension of given file\n",
    "\n",
    "filename=input(\"Enter the filename with extension :\")\n",
    "f=filename.split(\".\")\n",
    "print(\"extension is :\",f[-1])"
   ]
  },
  {
   "cell_type": "code",
   "execution_count": null,
   "id": "93a8d420",
   "metadata": {},
   "outputs": [],
   "source": []
  }
 ],
 "metadata": {
  "kernelspec": {
   "display_name": "Python 3 (ipykernel)",
   "language": "python",
   "name": "python3"
  },
  "language_info": {
   "codemirror_mode": {
    "name": "ipython",
    "version": 3
   },
   "file_extension": ".py",
   "mimetype": "text/x-python",
   "name": "python",
   "nbconvert_exporter": "python",
   "pygments_lexer": "ipython3",
   "version": "3.10.6"
  }
 },
 "nbformat": 4,
 "nbformat_minor": 5
}
