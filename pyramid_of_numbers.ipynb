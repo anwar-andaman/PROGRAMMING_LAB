{
 "cells": [
  {
   "cell_type": "code",
   "execution_count": 10,
   "id": "6e37c1ed",
   "metadata": {},
   "outputs": [
    {
     "name": "stdout",
     "output_type": "stream",
     "text": [
      "Enter the height of the Pyramid:10\n",
      "1 \n",
      "\n",
      "2 4 \n",
      "\n",
      "3 6 9 \n",
      "\n",
      "4 8 12 16 \n",
      "\n",
      "5 10 15 20 25 \n",
      "\n",
      "6 12 18 24 30 36 \n",
      "\n",
      "7 14 21 28 35 42 49 \n",
      "\n",
      "8 16 24 32 40 48 56 64 \n",
      "\n",
      "9 18 27 36 45 54 63 72 81 \n",
      "\n",
      "10 20 30 40 50 60 70 80 90 100 \n",
      "\n"
     ]
    }
   ],
   "source": [
    "#Program to build pyramid of numbers\n",
    "n = int(input(\"Enter the height of the Pyramid:\"))\n",
    "for i in range(1,n+1):\n",
    "    #print(i,end = ',')\n",
    "    for j in range(1,i+1):\n",
    "        print(i * j, end = \" \")\n",
    "    print(\"\\n\")\n",
    "        "
   ]
  },
  {
   "cell_type": "code",
   "execution_count": null,
   "id": "47d50655",
   "metadata": {},
   "outputs": [],
   "source": []
  }
 ],
 "metadata": {
  "kernelspec": {
   "display_name": "Python 3 (ipykernel)",
   "language": "python",
   "name": "python3"
  },
  "language_info": {
   "codemirror_mode": {
    "name": "ipython",
    "version": 3
   },
   "file_extension": ".py",
   "mimetype": "text/x-python",
   "name": "python",
   "nbconvert_exporter": "python",
   "pygments_lexer": "ipython3",
   "version": "3.10.6"
  }
 },
 "nbformat": 4,
 "nbformat_minor": 5
}
