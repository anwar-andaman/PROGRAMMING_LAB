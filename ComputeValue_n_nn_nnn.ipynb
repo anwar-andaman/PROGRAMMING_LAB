{
 "cells": [
  {
   "cell_type": "code",
   "execution_count": 1,
   "id": "43e78208",
   "metadata": {},
   "outputs": [
    {
     "name": "stdout",
     "output_type": "stream",
     "text": [
      "Enter a positive integer value:3\n",
      "\n",
      "Entered Value is  3\n",
      "\n",
      "The computed value of n+nn+nnn is  39\n"
     ]
    }
   ],
   "source": [
    "#Python program to compute n+nn+nnn\n",
    "n = int(input(\"Enter a positive integer value:\"))\n",
    "result = n + (n*n) + (n*n*n)\n",
    "print(\"\\nEntered Value is \",n)\n",
    "print(\"\\nThe computed value of n+nn+nnn is \",result)"
   ]
  },
  {
   "cell_type": "code",
   "execution_count": null,
   "id": "7e25baa1",
   "metadata": {},
   "outputs": [],
   "source": []
  }
 ],
 "metadata": {
  "kernelspec": {
   "display_name": "Python 3 (ipykernel)",
   "language": "python",
   "name": "python3"
  },
  "language_info": {
   "codemirror_mode": {
    "name": "ipython",
    "version": 3
   },
   "file_extension": ".py",
   "mimetype": "text/x-python",
   "name": "python",
   "nbconvert_exporter": "python",
   "pygments_lexer": "ipython3",
   "version": "3.10.6"
  }
 },
 "nbformat": 4,
 "nbformat_minor": 5
}
