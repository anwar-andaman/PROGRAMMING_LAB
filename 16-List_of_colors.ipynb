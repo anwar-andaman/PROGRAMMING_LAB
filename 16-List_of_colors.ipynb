{
 "cells": [
  {
   "cell_type": "code",
   "execution_count": 4,
   "id": "a1965dde",
   "metadata": {},
   "outputs": [
    {
     "name": "stdout",
     "output_type": "stream",
     "text": [
      "Enter the name of colours with comma separated\n",
      "Red,Green,Blue,Yellow,Orange,Voilet,Pink\n",
      "['Red', 'Green', 'Blue', 'Yellow', 'Orange', 'Voilet', 'Pink']\n",
      "first colour : Red\n",
      "last colour : Pink\n"
     ]
    }
   ],
   "source": [
    "#display first and last colors of list\n",
    "\n",
    "l=input(\"Enter the name of colours with comma separated\\n\")\n",
    "p=l.split(\",\")\n",
    "print(p)\n",
    "print(\"first colour :\",p[0])\n",
    "print(\"last colour :\",p[-1])"
   ]
  },
  {
   "cell_type": "code",
   "execution_count": null,
   "id": "44b15f72",
   "metadata": {},
   "outputs": [],
   "source": []
  }
 ],
 "metadata": {
  "kernelspec": {
   "display_name": "Python 3 (ipykernel)",
   "language": "python",
   "name": "python3"
  },
  "language_info": {
   "codemirror_mode": {
    "name": "ipython",
    "version": 3
   },
   "file_extension": ".py",
   "mimetype": "text/x-python",
   "name": "python",
   "nbconvert_exporter": "python",
   "pygments_lexer": "ipython3",
   "version": "3.10.6"
  }
 },
 "nbformat": 4,
 "nbformat_minor": 5
}
