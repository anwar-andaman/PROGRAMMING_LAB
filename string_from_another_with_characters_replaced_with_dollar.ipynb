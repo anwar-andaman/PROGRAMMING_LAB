{
 "cells": [
  {
   "cell_type": "code",
   "execution_count": 25,
   "id": "8a979fd2",
   "metadata": {},
   "outputs": [
    {
     "name": "stdout",
     "output_type": "stream",
     "text": [
      "Enter the String with atleast two characters:anwar rasheed\n",
      "\n",
      "The new string with replaced character is \"anw$r r$sheed\"\n"
     ]
    }
   ],
   "source": [
    "#Python program to get a string from a given one with replacing all the occurences of first character with dollar\n",
    "\n",
    "str = input(\"Enter the String with atleast two characters:\")\n",
    "newstr = str[0]\n",
    "for c in str[1:]:\n",
    "    if c == str[0]:\n",
    "       c = '$'\n",
    "    newstr = newstr + c\n",
    "print(\"\\nThe new string with replaced character is \\\"%s\\\"\" %newstr)"
   ]
  },
  {
   "cell_type": "code",
   "execution_count": null,
   "id": "13e15e8d",
   "metadata": {},
   "outputs": [],
   "source": []
  },
  {
   "cell_type": "code",
   "execution_count": null,
   "id": "f033c3c7",
   "metadata": {},
   "outputs": [],
   "source": []
  },
  {
   "cell_type": "code",
   "execution_count": null,
   "id": "f3f691d3",
   "metadata": {},
   "outputs": [],
   "source": []
  }
 ],
 "metadata": {
  "kernelspec": {
   "display_name": "Python 3 (ipykernel)",
   "language": "python",
   "name": "python3"
  },
  "language_info": {
   "codemirror_mode": {
    "name": "ipython",
    "version": 3
   },
   "file_extension": ".py",
   "mimetype": "text/x-python",
   "name": "python",
   "nbconvert_exporter": "python",
   "pygments_lexer": "ipython3",
   "version": "3.10.6"
  }
 },
 "nbformat": 4,
 "nbformat_minor": 5
}
