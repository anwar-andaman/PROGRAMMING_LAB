{
 "cells": [
  {
   "cell_type": "code",
   "execution_count": 29,
   "id": "5a04041c",
   "metadata": {},
   "outputs": [
    {
     "name": "stdout",
     "output_type": "stream",
     "text": [
      "Enter number1:12\n",
      "Enter number2:8\n",
      "The GCD of 12 and 8 = 4\n"
     ]
    }
   ],
   "source": [
    "#Program to find GCD of two integers\n",
    "num1 = int(input(\"Enter number1:\"))\n",
    "num2 = int(input(\"Enter number2:\"))\n",
    "gcd = 1\n",
    "if num1<num2:\n",
    "    min = num1\n",
    "else:\n",
    "    min = num2\n",
    "for i in range(2,min+1):\n",
    "    if num1%i == 0 and num2%i == 0:\n",
    "        gcd = i\n",
    "print(\"The GCD of\",num1,\"and\",num2,\"=\",gcd)"
   ]
  },
  {
   "cell_type": "code",
   "execution_count": null,
   "id": "12fbd8fa",
   "metadata": {},
   "outputs": [],
   "source": []
  }
 ],
 "metadata": {
  "kernelspec": {
   "display_name": "Python 3 (ipykernel)",
   "language": "python",
   "name": "python3"
  },
  "language_info": {
   "codemirror_mode": {
    "name": "ipython",
    "version": 3
   },
   "file_extension": ".py",
   "mimetype": "text/x-python",
   "name": "python",
   "nbconvert_exporter": "python",
   "pygments_lexer": "ipython3",
   "version": "3.10.6"
  }
 },
 "nbformat": 4,
 "nbformat_minor": 5
}
