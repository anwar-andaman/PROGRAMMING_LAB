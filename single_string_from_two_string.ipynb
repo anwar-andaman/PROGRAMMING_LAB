{
 "cells": [
  {
   "cell_type": "code",
   "execution_count": 10,
   "id": "8a979fd2",
   "metadata": {},
   "outputs": [
    {
     "name": "stdout",
     "output_type": "stream",
     "text": [
      "Enter the String with atleast three characters:Anwar\n",
      "Enter the String with atleast three characters:Rasheed\n",
      "\n",
      "The new string with first two characters swapped is \"Rawar Ansheed\"\n"
     ]
    }
   ],
   "source": [
    "#Python program to get a single string from two strings with first two characters swapped\n",
    "\n",
    "str1 = input(\"Enter the String with atleast three characters:\")\n",
    "str2 = input(\"Enter the String with atleast three characters:\")\n",
    "newstr = str2[0:2] + str1[2:] + \" \" + str1[0:2] + str2[2:]\n",
    "print(\"\\nThe new string with first two characters swapped is \\\"%s\\\"\" %newstr)"
   ]
  },
  {
   "cell_type": "code",
   "execution_count": null,
   "id": "13e15e8d",
   "metadata": {},
   "outputs": [],
   "source": []
  },
  {
   "cell_type": "code",
   "execution_count": null,
   "id": "f033c3c7",
   "metadata": {},
   "outputs": [],
   "source": []
  }
 ],
 "metadata": {
  "kernelspec": {
   "display_name": "Python 3 (ipykernel)",
   "language": "python",
   "name": "python3"
  },
  "language_info": {
   "codemirror_mode": {
    "name": "ipython",
    "version": 3
   },
   "file_extension": ".py",
   "mimetype": "text/x-python",
   "name": "python",
   "nbconvert_exporter": "python",
   "pygments_lexer": "ipython3",
   "version": "3.10.6"
  }
 },
 "nbformat": 4,
 "nbformat_minor": 5
}
