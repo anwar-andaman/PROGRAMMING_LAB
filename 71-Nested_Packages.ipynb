{
 "cells": [
  {
   "cell_type": "code",
   "execution_count": null,
   "id": "d87f7062",
   "metadata": {},
   "outputs": [
    {
     "name": "stdout",
     "output_type": "stream",
     "text": [
      "\n",
      "Enter the choice: \n",
      "\n",
      " 1: Use Graphics Package 2: Use Gaphics3D Package 3: Exit\n",
      "1\n",
      "\n",
      "Enter the choice: \n",
      "\n",
      " 1: Area & Circumference of Circle  \n",
      " 2: Area & Perimeter of Rectangle  \n",
      " 3: Surface Area and Perimeter of Sphere: 4: Surface Area and Perimeter of Cuboid:\n",
      " 5: Exit\n",
      "3\n",
      "\n",
      "Enter the Radius of Sphere: 12\n",
      "Surface Area of sphere:  1809.5573684677208\n",
      "Perimeter of sphere:  75.39822368615503\n"
     ]
    }
   ],
   "source": [
    "choice=int(input(\"\\nEnter the choice: \\n\\n 1: Use Graphics Package 2: Use Gaphics3D Package 3: Exit\\n\"))\n",
    "if choice==1:\n",
    "    import Graphics.Rectangle\n",
    "    import Graphics.Circle\n",
    "elif choice==2:\n",
    "    import Graphics.Graphics3D.Rectangle\n",
    "    import Graphics.Graphics3D.Circle\n",
    "    import Graphics.Graphics3D.Sphere\n",
    "    import Graphics.Graphics3D.Cuboid\n",
    "if choice!=3:\n",
    "    while True:\n",
    "        n=int(input(\"\\nEnter the choice: \\n\\n 1: Area & Circumference of Circle  \\n 2: Area & Perimeter of Rectangle  \\n 3: Surface Area and Perimeter of Sphere: 4: Surface Area and Perimeter of Cuboid:\\n 5: Exit\\n\"))\n",
    "        if (n==1):\n",
    "            r = int(input(\"\\n Enter the Radius:\"))\n",
    "            if choice==1:\n",
    "                print(\"\\nArea of Circle is: \",Graphics.Circle.findArea(r))\n",
    "                print(\"Circumference of Circle is: \",Graphics.Circle.findCircumference(r))\n",
    "            else:\n",
    "                print(\"\\nArea of Circle is: \",Graphics.Graphics3D.Circle.findArea(r))\n",
    "                print(\"Circumference of Circle is: \",Graphics.Graphics3D.Circle.findCircumference(r)) \n",
    "             \n",
    "        elif (n==2):\n",
    "            l = int(input(\"\\nEnter the Length of Rectangle: \"))\n",
    "            b = int(input(\"\\nEnter the Width of Rectangle: \"))\n",
    "            if (choice==1): \n",
    "                print(\"\\nArea of the Rectange is \",Graphics.Rectangle.findArea(l,b))\n",
    "                print(\"\\nPerimeter of the Rectange is \",Graphics.Rectangle.findPerimeter(l,b))\n",
    "            else:\n",
    "                print(\"\\nArea of the Rectange is \",Graphics.Graphics3D.Rectangle.findArea(l,b))\n",
    "                print(\"\\nPerimeter of the Rectange is \",Graphics.Graphics3D.Rectangle.findPerimeter(l,b))\n",
    "        elif (n==3):\n",
    "            l = int(input(\"\\nEnter the Radius of Sphere: \"))\n",
    "            Graphics.Graphics3D.Sphere.spherearea(l)\n",
    "            Graphics.Graphics3D.Sphere.sphereperi(l)\n",
    "        elif (n==4):\n",
    "            Graphics.Graphics3D.Cuboid.cuboidarea(l)\n",
    "            Graphics.Graphics3D.Cuboid.cuboidperi(l)\n",
    "            \n",
    "                \n",
    "        elif (n==5):\n",
    "            print(\"\\nExiting Program\")\n",
    "            break;\n"
   ]
  },
  {
   "cell_type": "code",
   "execution_count": null,
   "id": "cb6091ed",
   "metadata": {},
   "outputs": [],
   "source": []
  },
  {
   "cell_type": "code",
   "execution_count": null,
   "id": "be3446cf",
   "metadata": {},
   "outputs": [],
   "source": []
  },
  {
   "cell_type": "code",
   "execution_count": null,
   "id": "c2b3191e",
   "metadata": {},
   "outputs": [],
   "source": []
  }
 ],
 "metadata": {
  "kernelspec": {
   "display_name": "Python 3 (ipykernel)",
   "language": "python",
   "name": "python3"
  },
  "language_info": {
   "codemirror_mode": {
    "name": "ipython",
    "version": 3
   },
   "file_extension": ".py",
   "mimetype": "text/x-python",
   "name": "python",
   "nbconvert_exporter": "python",
   "pygments_lexer": "ipython3",
   "version": "3.10.6"
  }
 },
 "nbformat": 4,
 "nbformat_minor": 5
}
