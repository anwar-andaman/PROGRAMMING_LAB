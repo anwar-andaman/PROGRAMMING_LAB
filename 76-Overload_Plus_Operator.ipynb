{
 "cells": [
  {
   "cell_type": "code",
   "execution_count": 1,
   "id": "580c10c6",
   "metadata": {},
   "outputs": [
    {
     "name": "stdout",
     "output_type": "stream",
     "text": [
      "Time 1\n",
      "\n",
      "Enter hours:3\n",
      "enter minutes:50\n",
      "enter seconds: 30\n",
      "\n",
      "Time 2\n",
      "\n",
      "Enter hours: 4\n",
      "enter minutes: 25\n",
      "enter seconds: 50\n",
      "Added time..\n",
      " 8  hours\t 16  Minutes\t 20  Seconds\n"
     ]
    }
   ],
   "source": [
    "#Overload '+'operator to find sum of 2 time using class\n",
    "\n",
    "class time:\n",
    "    def __init__(self,hr,mint,sec):\n",
    "        self.__h=hr\n",
    "        self.__m=mint\n",
    "        self.__s=sec\n",
    "    def __add__(self,other):\n",
    "        hh=self.__h+other.__h\n",
    "        ss=self.__s+other.__s\n",
    "        mm=self.__m+other.__m\n",
    "        if (ss>=60):\n",
    "            m=int(ss/60)\n",
    "            ss=ss%60\n",
    "            mm+=m\n",
    "        if (mm>=60):\n",
    "            h=int(mm/60)\n",
    "            mm=mm%60\n",
    "            hh+=h\n",
    "        print(\"Added time..\\n\",hh,\" hours\\t\", mm,\" Minutes\\t\",ss,\" Seconds\")\n",
    "print(\"Time 1\\n\")\n",
    "h1=int(input(\"Enter hours:\"))\n",
    "m1=int(input(\"enter minutes:\"))\n",
    "s1=int(input(\"enter seconds: \"))\n",
    "print(\"\\nTime 2\\n\")\n",
    "h2=int(input(\"Enter hours: \"))\n",
    "m2=int(input(\"enter minutes: \"))\n",
    "s2=int(input(\"enter seconds: \"))\n",
    "t1=time(h1,m1,s1)\n",
    "t2=time(h2,m2,s2)\n",
    "t1+t2"
   ]
  },
  {
   "cell_type": "code",
   "execution_count": null,
   "id": "0de1b14a",
   "metadata": {},
   "outputs": [],
   "source": []
  }
 ],
 "metadata": {
  "kernelspec": {
   "display_name": "Python 3 (ipykernel)",
   "language": "python",
   "name": "python3"
  },
  "language_info": {
   "codemirror_mode": {
    "name": "ipython",
    "version": 3
   },
   "file_extension": ".py",
   "mimetype": "text/x-python",
   "name": "python",
   "nbconvert_exporter": "python",
   "pygments_lexer": "ipython3",
   "version": "3.10.6"
  }
 },
 "nbformat": 4,
 "nbformat_minor": 5
}
