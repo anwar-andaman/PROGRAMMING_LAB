{
 "cells": [
  {
   "cell_type": "code",
   "execution_count": 2,
   "id": "5e077c18",
   "metadata": {},
   "outputs": [
    {
     "name": "stdout",
     "output_type": "stream",
     "text": [
      "Enter the radius of the circle:23\n",
      "\n",
      "Area of the cirlce with radius 23.0 is 1661.90\n"
     ]
    }
   ],
   "source": [
    "#Python program to find the area of a Circle\n",
    "\n",
    "import math\n",
    "rad = float(input(\"Enter the radius of the circle:\"))\n",
    "area = math.pi * rad**2\n",
    "print(\"\\nArea of the cirlce with radius\",rad,\"is %.2f\" %area)\n"
   ]
  },
  {
   "cell_type": "code",
   "execution_count": null,
   "id": "299d290a",
   "metadata": {},
   "outputs": [],
   "source": []
  }
 ],
 "metadata": {
  "kernelspec": {
   "display_name": "Python 3 (ipykernel)",
   "language": "python",
   "name": "python3"
  },
  "language_info": {
   "codemirror_mode": {
    "name": "ipython",
    "version": 3
   },
   "file_extension": ".py",
   "mimetype": "text/x-python",
   "name": "python",
   "nbconvert_exporter": "python",
   "pygments_lexer": "ipython3",
   "version": "3.10.6"
  }
 },
 "nbformat": 4,
 "nbformat_minor": 5
}
