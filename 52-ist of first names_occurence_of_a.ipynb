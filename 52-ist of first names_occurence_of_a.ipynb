{
 "cells": [
  {
   "cell_type": "code",
   "execution_count": 7,
   "id": "0288d047",
   "metadata": {},
   "outputs": [
    {
     "name": "stdout",
     "output_type": "stream",
     "text": [
      "\n",
      "Enter the names. To stop enter 99: Anwar\n",
      "\n",
      "Enter the names. To stop enter 99: Rasheed\n",
      "\n",
      "Enter the names. To stop enter 99: Divya\n",
      "\n",
      "Enter the names. To stop enter 99: Rahul\n",
      "\n",
      "Enter the names. To stop enter 99: Ajay\n",
      "\n",
      "Enter the names. To stop enter 99: 99\n",
      "The number of occurences of a in Anwar is 2\n",
      "The number of occurences of a in Rasheed is 1\n",
      "The number of occurences of a in Divya is 1\n",
      "The number of occurences of a in Rahul is 1\n",
      "The number of occurences of a in Ajay is 2\n"
     ]
    }
   ],
   "source": [
    "#Store a list of first names. Count the occurrences of ‘a’ within the list\n",
    "namelist=[]\n",
    "while True:\n",
    "    name = input(\"\\nEnter the names. To stop enter 99: \")\n",
    "    if name==\"99\":\n",
    "        break;\n",
    "    namelist.append(name)\n",
    "for item in namelist:\n",
    "    a = item.lower().count(\"a\")\n",
    "    print(f\"The number of occurences of a in {item} is {a}\")\n",
    "    \n"
   ]
  },
  {
   "cell_type": "code",
   "execution_count": null,
   "id": "b849f49e",
   "metadata": {},
   "outputs": [],
   "source": []
  },
  {
   "cell_type": "code",
   "execution_count": null,
   "id": "4774d45a",
   "metadata": {},
   "outputs": [],
   "source": []
  }
 ],
 "metadata": {
  "kernelspec": {
   "display_name": "Python 3 (ipykernel)",
   "language": "python",
   "name": "python3"
  },
  "language_info": {
   "codemirror_mode": {
    "name": "ipython",
    "version": 3
   },
   "file_extension": ".py",
   "mimetype": "text/x-python",
   "name": "python",
   "nbconvert_exporter": "python",
   "pygments_lexer": "ipython3",
   "version": "3.10.6"
  }
 },
 "nbformat": 4,
 "nbformat_minor": 5
}
