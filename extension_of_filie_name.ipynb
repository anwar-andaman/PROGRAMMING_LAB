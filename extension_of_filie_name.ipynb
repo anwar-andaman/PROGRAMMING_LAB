{
 "cells": [
  {
   "cell_type": "code",
   "execution_count": 6,
   "id": "823d5ad9",
   "metadata": {},
   "outputs": [
    {
     "name": "stdout",
     "output_type": "stream",
     "text": [
      "Enter the File Name: myfile.pptx\n",
      "\n",
      "File Name you entered is myfile.pptx\n",
      "\n",
      "The extension of the file is pptx\n"
     ]
    }
   ],
   "source": [
    "#Program to print extenion of filename given by the user\n",
    "filename = input(\"Enter the File Name: \")\n",
    "print(\"\\nFile Name you entered is\",filename)\n",
    "print(\"\\nThe extension of the file is\",filename.split('.')[1])"
   ]
  },
  {
   "cell_type": "code",
   "execution_count": null,
   "id": "5a330830",
   "metadata": {},
   "outputs": [],
   "source": []
  }
 ],
 "metadata": {
  "kernelspec": {
   "display_name": "Python 3 (ipykernel)",
   "language": "python",
   "name": "python3"
  },
  "language_info": {
   "codemirror_mode": {
    "name": "ipython",
    "version": 3
   },
   "file_extension": ".py",
   "mimetype": "text/x-python",
   "name": "python",
   "nbconvert_exporter": "python",
   "pygments_lexer": "ipython3",
   "version": "3.10.6"
  }
 },
 "nbformat": 4,
 "nbformat_minor": 5
}
