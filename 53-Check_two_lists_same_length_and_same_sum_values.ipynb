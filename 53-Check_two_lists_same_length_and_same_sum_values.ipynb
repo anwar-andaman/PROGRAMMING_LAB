{
 "cells": [
  {
   "cell_type": "code",
   "execution_count": 20,
   "id": "da95c414",
   "metadata": {},
   "outputs": [
    {
     "name": "stdout",
     "output_type": "stream",
     "text": [
      "\n",
      "Enter the first list of integers in comma separated format: 10,20,30,40,50\n",
      "\n",
      "Enter the second list of integers in comma separated format: 32,43,20,65,50\n",
      "\n",
      " a)  Both the lists are of same length\n",
      "\n",
      " b)  The two lists do not sum to same value\n",
      "\n",
      " c)  Values which occur in both are [20, 50]\n"
     ]
    }
   ],
   "source": [
    "\"\"\"Enter 2 lists of integers and check\n",
    "           (a) Whether list are of same length \n",
    "           (b) whether list sums to same value \n",
    "           (c) whether any value occur in both\n",
    "\"\"\"\n",
    "list1=[]\n",
    "list2=[]\n",
    "def sumlist(l):\n",
    "    sum=0\n",
    "    for i in l:\n",
    "        sum=sum+i\n",
    "    return(sum)\n",
    "\n",
    "def change_to_int(l):\n",
    "    for i in range(0,len(l)):\n",
    "        l[i]=int(l[i])\n",
    "    return(l)\n",
    "   \n",
    "l1 = input(\"\\nEnter the first list of integers in comma separated format: \")\n",
    "l2 = input(\"\\nEnter the second list of integers in comma separated format: \")\n",
    "list1=l1.split(\",\")\n",
    "list2=l2.split(\",\")\n",
    "list1 = change_to_int(list1)\n",
    "list2 = change_to_int(list2)\n",
    "  \n",
    "if len(list1)==len(list2):\n",
    "    print(\"\\n a)  Both the lists are of same length\")\n",
    "else:\n",
    "    print(\"\\n a)  The lengths of the two lists are odifferent\")\n",
    "\n",
    "if sumlist(list1)==sumlist(list2):\n",
    "    print(\"\\n b)  The two lists sum to same value\")\n",
    "else:\n",
    "    print(\"\\n b)  The two lists do not sum to same value\")\n",
    "repeatList=[]\n",
    "for i in list1:\n",
    "    if i in list2:\n",
    "        repeatList.append(i)\n",
    "if len(repeatList)==0:\n",
    "    print(\"\\n c)  No values occur in both\")\n",
    "else:\n",
    "    print(f\"\\n c)  Values which occur in both are {repeatList}\")\n",
    "    "
   ]
  },
  {
   "cell_type": "code",
   "execution_count": null,
   "id": "5c879216",
   "metadata": {},
   "outputs": [],
   "source": []
  },
  {
   "cell_type": "code",
   "execution_count": null,
   "id": "9e258239",
   "metadata": {},
   "outputs": [],
   "source": []
  }
 ],
 "metadata": {
  "kernelspec": {
   "display_name": "Python 3 (ipykernel)",
   "language": "python",
   "name": "python3"
  },
  "language_info": {
   "codemirror_mode": {
    "name": "ipython",
    "version": 3
   },
   "file_extension": ".py",
   "mimetype": "text/x-python",
   "name": "python",
   "nbconvert_exporter": "python",
   "pygments_lexer": "ipython3",
   "version": "3.10.6"
  }
 },
 "nbformat": 4,
 "nbformat_minor": 5
}
